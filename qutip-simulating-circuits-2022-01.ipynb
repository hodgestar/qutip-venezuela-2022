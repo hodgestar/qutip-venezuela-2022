{
 "cells": [
  {
   "cell_type": "markdown",
   "id": "44df8a16",
   "metadata": {},
   "source": [
    "- Qobj would be the first thing and important to start using QuTiP\n",
    "- The submodule of QIP, for gates, circuits, tomography and visualization\n",
    "- End off with a fancy demonstration of QIP's pulse level optimization just to illustrate what's possible.\n",
    "\n",
    "\n",
    "\n",
    "* First hour:\n",
    "  * Introduction [5 minutes]\n",
    "  * Overview [5 minutes]\n",
    "    * What we are going to cover during the tutorial\n",
    "  * Opening Python and importing QuTiP [5 minutes]\n",
    "    * What is QuTiP?\n",
    "\n",
    "* Second hour:\n",
    "  * Understanding the evolution of quantum systems [20 minutes]\n",
    "    * Understanding the Schrodinger equation\n",
    "    * Understanding the role of the Hamiltonian and the energy of a system\n",
    "    * Understanding the role of the phase in the system evolution\n",
    "    * Using QuTiP to evolve a quantum system in time\n",
    "  * Playing with different Hamiltonians [10 minutes]\n",
    "    * Eigenvalues of the Hamiltonian\n",
    "    * Scaling the energy\n",
    "    * Changing the differences between energies\n",
    "  * Break\n",
    "\n",
    "* Third hour:\n",
    "  * Recap of where we are [5 minutes]\n",
    "    * Can code multi-atom states\n",
    "    * Can can evolve states in time\n",
    "    * All the ingredients we need to start controlling the states\n",
    "  * Controlling a quantum system [20 minutes]\n",
    "    * Time-dependent Hamiltonians\n",
    "    * Adding driving to the Hamiltonian\n",
    "    * Visualising the evolution of time-dependent systems with QuTiP\n",
    "  * Rotating the state of a single atom [15 minutes]\n",
    "    * Defining the control pulse\n",
    "    * Solving for the state of the atom as a function of time\n",
    "    * Visualising the evolution of the state\n",
    "  * Understanding the Rydberg blockade [10 minutes]\n",
    "    * Describing the mechanism of interaction between neighbouring atoms\n",
    "    * Demonstrating how this can be used to implement a two-atom logic gate\n",
    "  * Break\n",
    "\n",
    "* Fourth hour:\n",
    "  * Coupling the system to the environment [15 minutes]\n",
    "    * Describing the environment\n",
    "    * Visualising the evolution including decoherence"
   ]
  },
  {
   "cell_type": "markdown",
   "id": "c71e614c",
   "metadata": {},
   "source": [
    "# 0 minutes"
   ]
  },
  {
   "cell_type": "markdown",
   "id": "051c27ce",
   "metadata": {},
   "source": [
    "## What are we here for?"
   ]
  },
  {
   "cell_type": "markdown",
   "id": "3fcc0f6c",
   "metadata": {},
   "source": [
    "What are we going to do in the coming hour? I am going to talk about QuTiP and show you QuTiP being used. Presumably most of you are here to learn about QuTiP, and so presumably you will do whatever is necessary for *you* to learn -- watch, listen, think, make notes, etc.\n",
    "\n",
    "Two things are vital for learning -- engaging with the material at hand and feedback.\n",
    "\n",
    "The engaging we have partly covered already, but it is worth emphasising. If you don't engage you won't learn. If you immerse yourself more deeply you will learn more. If you are not going to engage, go do something else. Don't waste your time if you're not going to engage. You are in charge of your own time and your own learning.\n",
    "\n",
    "Now for feedback.\n",
    "\n",
    "Inevitably during the learning process we will go astray. I will misexplain something, or explain something in a way that is not right for *you* as you are right now. You will misunderstand things, or fail to see that there is something to understand. None of these are things to be ashamed of -- they are just part of the process.\n",
    "\n",
    "Effective learning requires detecting and correcting these glitches. In this lecture our primary means of feedback will be questions. Ask questions to check your understanding, and ask immediately if you do not understand something. If you don't understand something, it will make the next thing harder to follow, and you will quickly become lost.\n",
    "\n",
    "An hour is short, so we will not get to learn very much in it -- only see a few things in one corner of QuTiP -- but if you learn often and regularly, the small pieces of learning add up, until one day someone will ask you in amazement \"how did you know how to do that\" and you will not be able to say exactly, except to answer \"I kepted learning every day for a long time\".\n",
    "\n",
    "Onwards."
   ]
  },
  {
   "cell_type": "markdown",
   "id": "00661fa3",
   "metadata": {},
   "source": [
    "## QuTiP and open quantum systems"
   ]
  },
  {
   "cell_type": "markdown",
   "id": "43d5c787",
   "metadata": {},
   "source": [
    "QuTiP is a Python package for simulating *open quantum systems*.\n",
    "\n",
    "An open quantum system is a quantum *system* *interacting* within an *environment*, like so:"
   ]
  },
  {
   "cell_type": "markdown",
   "id": "0e05eb40",
   "metadata": {},
   "source": [
    "![Open Quantum System](images/open-qm-sys.png \"Open Quantum System\")\n",
    "\n",
    "Reference: [doi:10.1063/1.5115323](https://doi.org/10.1063/1.5115323)"
   ]
  },
  {
   "cell_type": "markdown",
   "id": "1c96c56a",
   "metadata": {},
   "source": [
    "The system evolves according to a Schrödinger equation:\n",
    "\n",
    "$$\n",
    "    i \\hbar \\frac{d \\psi}{dt} = H(t) \\psi\n",
    "$$\n",
    "\n",
    "where $\\Psi \\in \\mathcal{H}$."
   ]
  },
  {
   "cell_type": "markdown",
   "id": "a9d82c0d",
   "metadata": {},
   "source": [
    "Or if the system is represented by a density matrix (i.e. an essemble) then by the von Neumann equation:\n",
    "\n",
    "$$\n",
    "    \\frac{\\partial \\rho}{\\partial t} = \\frac{1}{i \\hbar} [H(t),\\rho]\n",
    "$$\n",
    "\n",
    "where $ \\rho $ is an operator $ \\rho : \\mathcal{H} \\rightarrow \\mathcal{H} $ where $ \\rho = \\sum_j p_j \\lvert \\psi_j \\rangle \\langle \\psi_j \\rvert $ and the $ p_j $ are real, positive (or zero) and sum to $ 1 $."
   ]
  },
  {
   "cell_type": "markdown",
   "id": "20608859",
   "metadata": {},
   "source": [
    "Practicalities:\n",
    "\n",
    "* The system Hilbert space is tractably small (e.g. a few tens of qubits).\n",
    "* The environment Hilbert space is intractably large (e.g. a small antenna and its surrounding electromagnetic field)\n",
    "* The environment is coupled to the system via an interaction term, $ H_I $ in the total system Hamiltonian, $ H_T $.\n",
    "* The total system evolves unitarily according to the Schrödinger or Von Neuman equation with $ H_T = H_S + H_I + H_E $.\n",
    "* The environment and its effect on the system must be approximated in some way."
   ]
  },
  {
   "cell_type": "markdown",
   "id": "a05841ba",
   "metadata": {},
   "source": [
    "Approximating the effects of the environment:\n",
    "\n",
    "* Typically the system plus environment is modelled by a new Hilbert space, $ \\mathcal{H}_A $, and a new evolution equation for it.\n",
    "* Both $ \\mathcal{H}_A $ and the new evolution equation will dependent on the environment.\n",
    "* In the simplest examples, $ \\mathcal{H}_A $, will sometimes *look* exactly like $ H $. Do not be fooled.\n",
    "* The new evolution equation will be non-unitary."
   ]
  },
  {
   "cell_type": "markdown",
   "id": "2715478e",
   "metadata": {},
   "source": [
    "## A [Fabry-Pérot interferometer](https://en.wikipedia.org/wiki/Fabry%E2%80%93P%C3%A9rot_interferometer) in a thermal bath\n",
    "\n",
    "i.e. the very \"simplest\" example.\n",
    "\n",
    "* The system (i.e. the interferometer) is represented by [quantum harmonic oscillator](https://en.wikipedia.org/wiki/Quantum_harmonic_oscillator) with frequency $ \\omega_c $ and Hamiltonian $ H = \\hbar \\omega ( N + \\frac{1}{2} ) $ and $ N = a^{\\dagger} a $ (the number of the excitation).\n",
    "\n",
    "* The bath may emit photons into the interferometer cavity, or absorb photons from it. This raises or lowers the number of excitations in cavity.\n",
    "\n",
    "As the approximate Hilbert space $ H_A $ we will use $ H $ itself, but the evolution will be non-unitary and will be government by a Lindblad equation:\n",
    "\n",
    "$$\n",
    "    \\frac{\\partial \\rho}{\\partial t} = \\frac{i}{\\hbar}[H, \\rho] + \\sum_{i=1}^{2} \\gamma_i \\left( L_i^{\\dagger} \\rho L_i - \\frac{1}{2} \\left\\{ L_{i}^{\\dagger} L_i, \\rho \\right\\} \\right)\n",
    "$$\n",
    "\n",
    "where:\n",
    "\n",
    "\\begin{align}\n",
    "    L_1 = a, & & \\gamma_1 = \\frac{\\gamma}{2}(n + 1) \\\\\n",
    "    L_2 = a^{\\dagger}, & & \\gamma_2 = \\frac{\\gamma}{2}n \\\\\n",
    "\\end{align}\n",
    "\n",
    "$ L_1 $ represents the possibility of the system emitting a photon into the bath, and $ L_2 $ the possibility of the system absorbing a photon from the bath.\n",
    "\n",
    "$ \\gamma $ is the strength of the coupling between the bath and the system.\n",
    "\n",
    "$ n $ is the average occupancy of the bath.\n",
    "\n",
    "The evolution equation is an example of a [Lindblad equation](https://en.wikipedia.org/wiki/Lindbladian). These describe the evolution of systems coupled to Markovian baths (i.e. where the effect of the bath on the system depends only on the current state of the approximated system and not on the complete evolution history).\n",
    "\n",
    "The operators $ L $ are called Lindblad or jump operators.\n",
    "\n",
    "The terms $ L_i^{\\dagger} \\rho L_i - \\frac{1}{2} \\left\\{ L_{i}^{\\dagger} L_i, \\rho \\right\\} $ may be represented by a superoperator called the Liouvillian.\n",
    "\n",
    "The Lindblad equation and Liouvillians form the basis of many more complex approximations which capture richer interactions between a system and an environment, so they are well worth studying in detail. "
   ]
  },
  {
   "cell_type": "markdown",
   "id": "9864dea3",
   "metadata": {},
   "source": [
    "QuTiP includes direct support for solving Lindblad master equations via the master equation solver, `mesolve`."
   ]
  },
  {
   "cell_type": "code",
   "execution_count": 1,
   "id": "fa23555d",
   "metadata": {},
   "outputs": [],
   "source": [
    "import qutip"
   ]
  },
  {
   "cell_type": "markdown",
   "id": "170aefae",
   "metadata": {},
   "source": [
    "# 15 minutes"
   ]
  },
  {
   "cell_type": "markdown",
   "id": "faffc40b",
   "metadata": {},
   "source": [
    "# 30 minutes"
   ]
  },
  {
   "cell_type": "markdown",
   "id": "654b0254",
   "metadata": {},
   "source": [
    "# 45 minutes"
   ]
  },
  {
   "cell_type": "markdown",
   "id": "af34c98e",
   "metadata": {},
   "source": [
    "# End"
   ]
  },
  {
   "cell_type": "code",
   "execution_count": 2,
   "id": "beaa3248",
   "metadata": {},
   "outputs": [
    {
     "name": "stdout",
     "output_type": "stream",
     "text": [
      "\n",
      "QuTiP: Quantum Toolbox in Python\n",
      "================================\n",
      "Copyright (c) QuTiP team 2011 and later.\n",
      "Current admin team: Alexander Pitchford, Nathan Shammah, Shahnawaz Ahmed, Neill Lambert, Eric Giguère, Boxi Li, Jake Lishman and Simon Cross.\n",
      "Board members: Daniel Burgarth, Robert Johansson, Anton F. Kockum, Franco Nori and Will Zeng.\n",
      "Original developers: R. J. Johansson & P. D. Nation.\n",
      "Previous lead developers: Chris Granade & A. Grimsmo.\n",
      "Currently developed through wide collaboration. See https://github.com/qutip for details.\n",
      "\n",
      "QuTiP Version:      4.7.0\n",
      "Numpy Version:      1.22.3\n",
      "Scipy Version:      1.8.0\n",
      "Cython Version:     0.29.28\n",
      "Matplotlib Version: 3.5.1\n",
      "Python Version:     3.9.12\n",
      "Number of CPUs:     8\n",
      "BLAS Info:          OPENBLAS\n",
      "OPENMP Installed:   False\n",
      "INTEL MKL Ext:      False\n",
      "Platform Info:      Linux (x86_64)\n",
      "Installation path:  /home/simon/venvs/py3/qutip-venezuela-2022/lib/python3.9/site-packages/qutip\n",
      "================================================================================\n",
      "Please cite QuTiP in your publication.\n",
      "================================================================================\n",
      "For your convenience a bibtex reference can be easily generated using `qutip.cite()`\n"
     ]
    }
   ],
   "source": [
    "qutip.about()"
   ]
  },
  {
   "cell_type": "code",
   "execution_count": null,
   "id": "3628eed7",
   "metadata": {},
   "outputs": [],
   "source": []
  }
 ],
 "metadata": {
  "kernelspec": {
   "display_name": "Python 3 (ipykernel)",
   "language": "python",
   "name": "python3"
  },
  "language_info": {
   "codemirror_mode": {
    "name": "ipython",
    "version": 3
   },
   "file_extension": ".py",
   "mimetype": "text/x-python",
   "name": "python",
   "nbconvert_exporter": "python",
   "pygments_lexer": "ipython3",
   "version": "3.9.12"
  }
 },
 "nbformat": 4,
 "nbformat_minor": 5
}
